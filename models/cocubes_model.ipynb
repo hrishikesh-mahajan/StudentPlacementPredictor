{
  "cells": [
    {
      "cell_type": "code",
      "execution_count": null,
      "metadata": {
        "id": "ENk2U5AgtxtV"
      },
      "outputs": [],
      "source": [
        "import pandas as pd"
      ]
    },
    {
      "cell_type": "code",
      "execution_count": null,
      "metadata": {
        "id": "BWrbbbDKt2j-"
      },
      "outputs": [],
      "source": [
        "from sklearn.model_selection import train_test_split\n",
        "from sklearn.linear_model import LinearRegression\n",
        "from sklearn.preprocessing import StandardScaler\n",
        "from sklearn.impute import SimpleImputer\n",
        "from sklearn.metrics import mean_squared_error, r2_score"
      ]
    },
    {
      "cell_type": "code",
      "execution_count": null,
      "metadata": {
        "id": "gfDKpeopt5bC"
      },
      "outputs": [],
      "source": [
        "data = pd.read_csv('cocubes_2024.csv')"
      ]
    },
    {
      "cell_type": "code",
      "execution_count": null,
      "metadata": {
        "colab": {
          "base_uri": "https://localhost:8080/",
          "height": 206
        },
        "id": "jRWVxgh3vKKX",
        "outputId": "cc4979b2-4bf8-439b-c919-edbe623cd187"
      },
      "outputs": [],
      "source": [
        "data.head()"
      ]
    },
    {
      "cell_type": "code",
      "execution_count": null,
      "metadata": {
        "id": "BBAq7kuivhlJ"
      },
      "outputs": [],
      "source": [
        "data.drop([\"Name\", \"Branch\"], axis=1, inplace=True)"
      ]
    },
    {
      "cell_type": "code",
      "execution_count": null,
      "metadata": {
        "colab": {
          "base_uri": "https://localhost:8080/",
          "height": 206
        },
        "id": "Gpx1a-byvm21",
        "outputId": "12dc43e6-41c4-40f9-a1ab-b3492b3c78c1"
      },
      "outputs": [],
      "source": [
        "data.head()"
      ]
    },
    {
      "cell_type": "code",
      "execution_count": null,
      "metadata": {
        "id": "y6SkxdzSvxgi"
      },
      "outputs": [],
      "source": [
        "imputer = SimpleImputer(strategy='mean')\n",
        "data_imputed = pd.DataFrame(imputer.fit_transform(data), columns=data.columns)"
      ]
    },
    {
      "cell_type": "code",
      "execution_count": null,
      "metadata": {
        "colab": {
          "base_uri": "https://localhost:8080/",
          "height": 206
        },
        "id": "_WgA0qN2v3nv",
        "outputId": "79ecb7af-3f85-4ddb-cdb7-d259fa97e7e8"
      },
      "outputs": [],
      "source": [
        "data_imputed.head()"
      ]
    },
    {
      "cell_type": "code",
      "execution_count": null,
      "metadata": {},
      "outputs": [],
      "source": [
        "X_df = data_imputed.drop('LPA', axis=1)\n",
        "y = data_imputed['LPA']"
      ]
    },
    {
      "cell_type": "code",
      "execution_count": null,
      "metadata": {
        "id": "pfQ8VmPyv6Ai"
      },
      "outputs": [],
      "source": [
        "scaler = StandardScaler()\n",
        "X_scaled_data = scaler.fit_transform(X_df)"
      ]
    },
    {
      "cell_type": "code",
      "execution_count": null,
      "metadata": {
        "id": "uiLxumawwBJG"
      },
      "outputs": [],
      "source": [
        "weights = [0.1, 0.1, 0.3, 0.2, 0.15, 0.15]\n",
        "X_scaled_data_weighted = X_scaled_data.copy()"
      ]
    },
    {
      "cell_type": "code",
      "execution_count": null,
      "metadata": {
        "id": "tlqpjiL1wElu"
      },
      "outputs": [],
      "source": [
        "for i in range(X_scaled_data.shape[1] - 1):\n",
        "    X_scaled_data_weighted[:, i] *= weights[i]"
      ]
    },
    {
      "cell_type": "code",
      "execution_count": null,
      "metadata": {},
      "outputs": [],
      "source": [
        "X = X_scaled_data_weighted"
      ]
    },
    {
      "cell_type": "code",
      "execution_count": null,
      "metadata": {
        "colab": {
          "base_uri": "https://localhost:8080/",
          "height": 74
        },
        "id": "sC5fjqZXxOri",
        "outputId": "6b1c3f83-029e-410e-9a04-0c9d26d4a168"
      },
      "outputs": [],
      "source": [
        "# Training model\n",
        "X_train, X_test, y_train, y_test = train_test_split(X, y, test_size=0.2, random_state=42)\n",
        "\n",
        "lr_model = LinearRegression()\n",
        "lr_model.fit(X_train, y_train)"
      ]
    },
    {
      "cell_type": "code",
      "execution_count": null,
      "metadata": {
        "id": "nIfsflBLxl0U"
      },
      "outputs": [],
      "source": [
        "y_pred = lr_model.predict(X_test)"
      ]
    },
    {
      "cell_type": "code",
      "execution_count": null,
      "metadata": {
        "id": "29ibN7CCxx3I"
      },
      "outputs": [],
      "source": [
        "mse = mean_squared_error(y_test, y_pred)\n",
        "r2 = r2_score(y_test, y_pred)"
      ]
    },
    {
      "cell_type": "code",
      "execution_count": null,
      "metadata": {
        "colab": {
          "base_uri": "https://localhost:8080/"
        },
        "id": "wFp5M8SMx7A7",
        "outputId": "333d1990-69dd-4dac-8dc0-f795f0e8d23e"
      },
      "outputs": [],
      "source": [
        "print(\"Mean Squared Error:\", mse)\n",
        "print(\"R-squared:\", r2)"
      ]
    },
    {
      "cell_type": "code",
      "execution_count": null,
      "metadata": {
        "colab": {
          "base_uri": "https://localhost:8080/"
        },
        "id": "2uwqUyapx-Z4",
        "outputId": "3bafaf16-b37b-443e-9694-f2949972d809"
      },
      "outputs": [],
      "source": [
        "print(\"Coefficients:\", lr_model.coef_)\n",
        "print(\"Intercept:\", lr_model.intercept_)"
      ]
    },
    {
      "cell_type": "code",
      "execution_count": null,
      "metadata": {},
      "outputs": [],
      "source": [
        "feature_coefficients = lr_model.coef_\n",
        "\n",
        "feature_impact = {feature: coefficient for feature, coefficient in zip(X_df.columns, feature_coefficients)}\n",
        "\n",
        "print(\"Impact of Features on LPA:\")\n",
        "for feature, impact in feature_impact.items():\n",
        "    print(f\"{feature}: {impact}\")"
      ]
    },
    {
      "cell_type": "code",
      "execution_count": null,
      "metadata": {
        "id": "hxBIMww0yCy5"
      },
      "outputs": [],
      "source": [
        "import joblib"
      ]
    },
    {
      "cell_type": "code",
      "execution_count": null,
      "metadata": {
        "colab": {
          "base_uri": "https://localhost:8080/"
        },
        "id": "w6Gkt5m9y1oz",
        "outputId": "c145a24d-0220-42d4-c53e-83ca6501acc3"
      },
      "outputs": [],
      "source": [
        "print()\n",
        "\n",
        "print(\"Exporting the model and scaler to files\")\n",
        "\n",
        "# Save the trained model\n",
        "model_path = 'cocubes_model.pkl'\n",
        "joblib.dump(lr_model, model_path)\n",
        "print(f\"Saved {model_path}\")\n",
        "\n",
        "# Save the scaler\n",
        "scaler_path = 'cocubes_scaler.pkl'\n",
        "joblib.dump(scaler, scaler_path)\n",
        "print(f\"Saved {scaler_path}\")"
      ]
    },
    {
      "cell_type": "code",
      "execution_count": null,
      "metadata": {
        "id": "pi85idWTzABv"
      },
      "outputs": [],
      "source": [
        "import sklearn\n",
        "import matplotlib\n",
        "\n",
        "print()\n",
        "\n",
        "print(\"Library Verions:\")\n",
        "print(\"sklearn: \\t\", sklearn.__version__)\n",
        "print(\"pandas: \\t\", pd.__version__)\n",
        "print(\"joblib: \\t\", joblib.__version__)\n",
        "print(\"matplotlib: \\t\", matplotlib.__version__)"
      ]
    }
  ],
  "metadata": {
    "colab": {
      "provenance": []
    },
    "kernelspec": {
      "display_name": "Python 3",
      "name": "python3"
    },
    "language_info": {
      "codemirror_mode": {
        "name": "ipython",
        "version": 3
      },
      "file_extension": ".py",
      "mimetype": "text/x-python",
      "name": "python",
      "nbconvert_exporter": "python",
      "pygments_lexer": "ipython3",
      "version": "3.10.12"
    }
  },
  "nbformat": 4,
  "nbformat_minor": 0
}
