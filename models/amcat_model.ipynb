{
  "cells": [
    {
      "cell_type": "code",
      "execution_count": null,
      "metadata": {
        "id": "TnDGKWHtmHMn"
      },
      "outputs": [],
      "source": [
        "import pandas as pd\n",
        "from sklearn.model_selection import train_test_split\n",
        "from sklearn.preprocessing import StandardScaler\n",
        "from sklearn.linear_model import LinearRegression\n",
        "from sklearn.metrics import mean_absolute_error"
      ]
    },
    {
      "cell_type": "code",
      "execution_count": null,
      "metadata": {
        "colab": {
          "base_uri": "https://localhost:8080/",
          "height": 206
        },
        "id": "KH1Ky_GxmxMJ",
        "outputId": "e45e0b69-922b-4992-ed46-2ed199fd0161"
      },
      "outputs": [],
      "source": [
        "data = pd.read_csv('amcat_2024.csv')\n",
        "data.head()"
      ]
    },
    {
      "cell_type": "code",
      "execution_count": null,
      "metadata": {
        "id": "DCBEvDQQr6uE"
      },
      "outputs": [],
      "source": [
        "data.drop(['Name', 'PRN'], axis=1, inplace=True)\n",
        "\n",
        "branch_mapping = {'Comp': 3, 'IT': 2, 'ENTC': 1}\n",
        "data['Branch'] = data['Branch'].map(branch_mapping)"
      ]
    },
    {
      "cell_type": "code",
      "execution_count": null,
      "metadata": {
        "id": "mdGU6njtr9PO"
      },
      "outputs": [],
      "source": [
        "feature_weights = {\n",
        "    'Branch': 0.03,\n",
        "    'Automata': 0.35,\n",
        "    'Logical Ability': 0.3,\n",
        "    'English Comprehension': 0.2,\n",
        "    'Quantitative Ability': 0.12\n",
        "}\n",
        "\n",
        "for feature, weight in feature_weights.items():\n",
        "    data[feature] *= weight"
      ]
    },
    {
      "cell_type": "code",
      "execution_count": null,
      "metadata": {
        "id": "pJ9q6vnur_aA"
      },
      "outputs": [],
      "source": [
        "X = data.drop('LPA', axis=1)\n",
        "y = data['LPA']"
      ]
    },
    {
      "cell_type": "code",
      "execution_count": null,
      "metadata": {
        "id": "qC7I_o63sBhu"
      },
      "outputs": [],
      "source": [
        "X_train, X_test, y_train, y_test = train_test_split(X, y, test_size=0.2, random_state=42)"
      ]
    },
    {
      "cell_type": "code",
      "execution_count": null,
      "metadata": {
        "id": "qvMR9-qYsFth"
      },
      "outputs": [],
      "source": [
        "scaler = StandardScaler()\n",
        "X_train_scaled = scaler.fit_transform(X_train)\n",
        "X_test_scaled = scaler.transform(X_test)"
      ]
    },
    {
      "cell_type": "code",
      "execution_count": null,
      "metadata": {
        "colab": {
          "base_uri": "https://localhost:8080/",
          "height": 74
        },
        "id": "yfYnR-v3sHq4",
        "outputId": "36960547-b5d0-42fb-ea93-ab8d0bf0e42d"
      },
      "outputs": [],
      "source": [
        "model = LinearRegression()\n",
        "model.fit(X_train_scaled, y_train)"
      ]
    },
    {
      "cell_type": "code",
      "execution_count": null,
      "metadata": {
        "id": "YkzkJ4rjsLSu"
      },
      "outputs": [],
      "source": [
        "predictions = model.predict(X_test_scaled)"
      ]
    },
    {
      "cell_type": "code",
      "execution_count": null,
      "metadata": {
        "colab": {
          "base_uri": "https://localhost:8080/"
        },
        "id": "pHP_q_gjsNrE",
        "outputId": "4929a0e1-9636-41b8-bb1e-4001618ee4a6"
      },
      "outputs": [],
      "source": [
        "mae = mean_absolute_error(y_test, predictions)\n",
        "print(f'Mean Absolute Error: {mae}')"
      ]
    },
    {
      "cell_type": "markdown",
      "metadata": {
        "id": "pEsQsCTesr8C"
      },
      "source": [
        "**Original Coefficients**"
      ]
    },
    {
      "cell_type": "code",
      "execution_count": null,
      "metadata": {
        "colab": {
          "base_uri": "https://localhost:8080/"
        },
        "id": "2VLR7TqAsdjv",
        "outputId": "3597f845-b9db-4bc1-9fe0-72ff21673df5"
      },
      "outputs": [],
      "source": [
        "feature_coefficients = model.coef_\n",
        "\n",
        "feature_impact = {feature: coefficient for feature, coefficient in zip(X.columns, feature_coefficients)}\n",
        "\n",
        "print(\"Impact of Features on LPA:\")\n",
        "for feature, impact in feature_impact.items():\n",
        "    print(f\"{feature}: {impact}\")"
      ]
    },
    {
      "cell_type": "code",
      "execution_count": null,
      "metadata": {
        "colab": {
          "base_uri": "https://localhost:8080/",
          "height": 564
        },
        "id": "SceH5eJ0s-8m",
        "outputId": "ecc26c85-c786-4dba-ad86-32791a5a60dd"
      },
      "outputs": [],
      "source": [
        "import matplotlib.pyplot as plt\n",
        "\n",
        "feature_names = X.columns\n",
        "feature_coefficients = model.coef_\n",
        "feature_impact = {feature: coefficient for feature, coefficient in zip(feature_names, feature_coefficients)}\n",
        "\n",
        "plt.figure(figsize=(8, 6))\n",
        "plt.barh(list(feature_impact.keys()), list(feature_impact.values()), color='lightseagreen')\n",
        "plt.xlabel('Impact on LPA')\n",
        "plt.title('Impact of Features on LPA')\n",
        "plt.show()"
      ]
    },
    {
      "cell_type": "markdown",
      "metadata": {
        "id": "7I_G7s39tcus"
      },
      "source": [
        "**Updated Coefficients**"
      ]
    },
    {
      "cell_type": "code",
      "execution_count": null,
      "metadata": {
        "colab": {
          "base_uri": "https://localhost:8080/"
        },
        "id": "lEnOgomntiBz",
        "outputId": "f4a0e6f7-8256-4f27-fdd1-e14805f55078"
      },
      "outputs": [],
      "source": [
        "feature_coefficients = model.coef_\n",
        "\n",
        "feature_coefficients[feature_names == 'English Comprehension'] *= -1\n",
        "feature_coefficients[feature_names == 'Quantitative Ability'] *= -1\n",
        "\n",
        "# Update the model with modified coefficients\n",
        "model.coef_ = feature_coefficients\n",
        "\n",
        "print(\"Updated Impact of Features on LPA:\")\n",
        "for feature, impact in zip(feature_names, feature_coefficients):\n",
        "    print(f\"{feature}: {impact}\")\n"
      ]
    },
    {
      "cell_type": "code",
      "execution_count": null,
      "metadata": {
        "colab": {
          "base_uri": "https://localhost:8080/",
          "height": 564
        },
        "id": "kO9Yyk1Xtnx-",
        "outputId": "c63d2ceb-ab8d-403e-d8e2-282802178314"
      },
      "outputs": [],
      "source": [
        "feature_names = X.columns\n",
        "\n",
        "feature_coefficients = model.coef_\n",
        "feature_impact = {feature: coefficient for feature, coefficient in zip(feature_names, feature_coefficients)}\n",
        "\n",
        "plt.figure(figsize=(8, 6))\n",
        "plt.barh(list(feature_impact.keys()), list(feature_impact.values()), color='chocolate')\n",
        "plt.xlabel('Impact on LPA')\n",
        "plt.title('Impact of Features on LPA')\n",
        "plt.show()"
      ]
    },
    {
      "cell_type": "code",
      "execution_count": null,
      "metadata": {
        "colab": {
          "base_uri": "https://localhost:8080/"
        },
        "id": "h-WDYMJU9Q0V",
        "outputId": "a6f19486-d4aa-42dc-bb5e-b0bfdadd630c"
      },
      "outputs": [],
      "source": [
        "print(model.intercept_)"
      ]
    },
    {
      "cell_type": "code",
      "execution_count": null,
      "metadata": {
        "id": "KJHcsGkzO_V3"
      },
      "outputs": [],
      "source": [
        "import joblib"
      ]
    },
    {
      "cell_type": "code",
      "execution_count": null,
      "metadata": {
        "colab": {
          "base_uri": "https://localhost:8080/"
        },
        "id": "GUjSc1o9Ei6s",
        "outputId": "53e19416-6b10-4f2d-c0bb-cd53b5a574bb"
      },
      "outputs": [],
      "source": [
        "# Save the trained model\n",
        "model_path = 'amcat_model.pkl'\n",
        "joblib.dump(model, model_path)\n",
        "\n",
        "# Save the scaler\n",
        "scaler_path = 'amcat_scaler.pkl'\n",
        "joblib.dump(scaler, scaler_path)"
      ]
    }
  ],
  "metadata": {
    "colab": {
      "provenance": []
    },
    "kernelspec": {
      "display_name": "Python 3",
      "name": "python3"
    },
    "language_info": {
      "codemirror_mode": {
        "name": "ipython",
        "version": 3
      },
      "file_extension": ".py",
      "mimetype": "text/x-python",
      "name": "python",
      "nbconvert_exporter": "python",
      "pygments_lexer": "ipython3",
      "version": "3.10.12"
    }
  },
  "nbformat": 4,
  "nbformat_minor": 0
}
